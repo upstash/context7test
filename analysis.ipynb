{
  "cells": [
    {
      "cell_type": "markdown",
      "source": [
        "# Data Analysis Example\n",
        "This notebook demonstrates data processing techniques."
      ]
    },
    {
      "cell_type": "code",
      "source": [
        "import pandas as pd\n",
        "import numpy as np\n",
        "df = pd.DataFrame({'x': [1, 2, 3], 'y': [4, 5, 6]})"
      ],
      "outputs": [
        {
          "output_type": "execute_result",
          "data": {
            "text/plain": [
              "   x  y\n0  1  4\n1  2  5\n2  3  6"
            ]
          }
        }
      ]
    },
    {
      "cell_type": "code",
      "source": [
        "# Statistical analysis of the dataframe\n",
        "def analyze_dataframe(df):\n",
        "    \"\"\"Perform comprehensive statistical analysis on a dataframe.\"\"\"\n",
        "    print('Dataset Overview:')\n",
        "    print('-' * 50)\n",
        "    print(f'Shape: {df.shape}')\n",
        "    print(f'Columns: {list(df.columns)}')\n",
        "    print(f'Data types:\\n{df.dtypes}')\n",
        "    \n",
        "    # Basic statistics\n",
        "    stats = df.describe()\n",
        "    print('\\nStatistical Summary:')\n",
        "    print('-' * 50)\n",
        "    print(stats)\n",
        "    \n",
        "    # Check for missing values\n",
        "    missing = df.isnull().sum()\n",
        "    if missing.any():\n",
        "        print('\\nMissing Values:')\n",
        "        print('-' * 50)\n",
        "        print(missing[missing > 0])\n",
        "    \n",
        "    # Calculate correlations\n",
        "    if len(df.select_dtypes(include=['number']).columns) > 1:\n",
        "        print('\\nCorrelation Matrix:')\n",
        "        print('-' * 50)\n",
        "        print(df.corr())\n",
        "    \n",
        "    return stats\n",
        "\n",
        "# Run the analysis\n",
        "statistics = analyze_dataframe(df)\n",
        "print('\\nAnalysis complete!')"
      ],
      "outputs": [
        {
          "output_type": "stream",
          "name": "stdout",
          "text": [
            "Dataset Overview:\n",
            "--------------------------------------------------\n",
            "Shape: (3, 2)\n",
            "Columns: ['x', 'y']\n",
            "Data types:\n",
            "x    int64\n",
            "y    int64\n",
            "dtype: object\n",
            "\n",
            "Statistical Summary:\n",
            "--------------------------------------------------\n",
            "              x         y\n",
            "count  3.000000  3.000000\n",
            "mean   2.000000  5.000000\n",
            "std    1.000000  1.000000\n",
            "min    1.000000  4.000000\n",
            "25%    1.500000  4.500000\n",
            "50%    2.000000  5.000000\n",
            "75%    2.500000  5.500000\n",
            "max    3.000000  6.000000\n",
            "\n",
            "Correlation Matrix:\n",
            "--------------------------------------------------\n",
            "     x    y\n",
            "x  1.0  1.0\n",
            "y  1.0  1.0\n",
            "\n",
            "Analysis complete!"
          ]
        }
      ]
    },
    {
      "cell_type": "markdown",
      "source": [
        "## Visualization\n",
        "Creating plots with matplotlib."
      ]
    },
    {
      "cell_type": "code",
      "source": [
        "import matplotlib.pyplot as plt\n",
        "import seaborn as sns\n",
        "\n",
        "def create_visualizations(df):\n",
        "    \"\"\"Create comprehensive visualizations for the dataframe.\"\"\"\n",
        "    # Set the style\n",
        "    sns.set_style('whitegrid')\n",
        "    \n",
        "    # Create figure with subplots\n",
        "    fig, axes = plt.subplots(2, 2, figsize=(12, 10))\n",
        "    fig.suptitle('Data Analysis Visualizations', fontsize=16, fontweight='bold')\n",
        "    \n",
        "    # Line plot\n",
        "    axes[0, 0].plot(df['x'], df['y'], marker='o', linestyle='-', linewidth=2, markersize=8)\n",
        "    axes[0, 0].set_title('Line Plot: X vs Y')\n",
        "    axes[0, 0].set_xlabel('X values')\n",
        "    axes[0, 0].set_ylabel('Y values')\n",
        "    axes[0, 0].grid(True, alpha=0.3)\n",
        "    \n",
        "    # Scatter plot\n",
        "    axes[0, 1].scatter(df['x'], df['y'], s=100, c='red', alpha=0.6, edgecolors='black')\n",
        "    axes[0, 1].set_title('Scatter Plot: X vs Y')\n",
        "    axes[0, 1].set_xlabel('X values')\n",
        "    axes[0, 1].set_ylabel('Y values')\n",
        "    \n",
        "    # Bar plot for X values\n",
        "    axes[1, 0].bar(range(len(df)), df['x'], color='blue', alpha=0.7, label='X')\n",
        "    axes[1, 0].bar(range(len(df)), df['y'], color='green', alpha=0.7, bottom=df['x'], label='Y')\n",
        "    axes[1, 0].set_title('Stacked Bar Chart')\n",
        "    axes[1, 0].set_xlabel('Index')\n",
        "    axes[1, 0].set_ylabel('Values')\n",
        "    axes[1, 0].legend()\n",
        "    \n",
        "    # Histogram\n",
        "    axes[1, 1].hist([df['x'], df['y']], bins=5, label=['X', 'Y'], alpha=0.7, color=['blue', 'green'])\n",
        "    axes[1, 1].set_title('Histogram of Values')\n",
        "    axes[1, 1].set_xlabel('Value')\n",
        "    axes[1, 1].set_ylabel('Frequency')\n",
        "    axes[1, 1].legend()\n",
        "    \n",
        "    # Adjust layout to prevent overlap\n",
        "    plt.tight_layout()\n",
        "    \n",
        "    # Add some statistics as text\n",
        "    stats_text = f'Mean X: {df[\"x\"].mean():.2f}\\nMean Y: {df[\"y\"].mean():.2f}\\nCorrelation: {df[\"x\"].corr(df[\"y\"]):.2f}'\n",
        "    fig.text(0.02, 0.02, stats_text, fontsize=10, bbox=dict(boxstyle='round', facecolor='wheat', alpha=0.5))\n",
        "    \n",
        "    return fig\n",
        "\n",
        "# Create and display the visualizations\n",
        "figure = create_visualizations(df)\n",
        "plt.show()\n",
        "print('Visualizations created successfully!')"
      ],
      "outputs": [
        {
          "output_type": "display_data",
          "data": {
            "text/plain": [
              "<Figure size 1200x1000 with 4 Axes>"
            ]
          }
        },
        {
          "output_type": "stream",
          "name": "stdout",
          "text": [
            "Visualizations created successfully!"
          ]
        }
      ]
    }
  ],
  "metadata": {},
  "nbformat": 4,
  "nbformat_minor": 4
}