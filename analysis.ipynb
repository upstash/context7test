{
  "cells": [
    {
      "cell_type": "markdown",
      "source": [
        "# Data Analysis Example\n",
        "This notebook demonstrates data processing techniques."
      ]
    },
    {
      "cell_type": "code",
      "source": [
        "import pandas as pd\n",
        "import numpy as np\n",
        "df = pd.DataFrame({'x': [1, 2, 3], 'y': [4, 5, 6]})"
      ],
      "outputs": [
        {
          "output_type": "execute_result",
          "data": {
            "text/plain": [
              "   x  y\n0  1  4\n1  2  5\n2  3  6"
            ]
          }
        }
      ]
    },
    {
      "cell_type": "code",
      "source": [
        "df.describe()"
      ],
      "outputs": [
        {
          "output_type": "execute_result",
          "data": {
            "text/plain": [
              "              x         y\ncount  3.000000  3.000000\nmean   2.000000  5.000000\nstd    1.000000  1.000000"
            ]
          }
        }
      ]
    },
    {
      "cell_type": "markdown",
      "source": [
        "## Visualization\n",
        "Creating plots with matplotlib."
      ]
    },
    {
      "cell_type": "code",
      "source": [
        "import matplotlib.pyplot as plt\n",
        "plt.plot(df['x'], df['y'])\n",
        "plt.show()"
      ]
    }
  ],
  "metadata": {},
  "nbformat": 4,
  "nbformat_minor": 4
}